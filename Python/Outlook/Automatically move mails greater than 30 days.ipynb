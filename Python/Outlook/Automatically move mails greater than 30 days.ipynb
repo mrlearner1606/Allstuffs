{
 "cells": [
  {
   "cell_type": "code",
   "execution_count": 77,
   "id": "c6a9bd8c",
   "metadata": {},
   "outputs": [
    {
     "data": {
      "text/plain": [
       "3967"
      ]
     },
     "execution_count": 77,
     "metadata": {},
     "output_type": "execute_result"
    }
   ],
   "source": [
    "import os\n",
    "os.startfile(\"outlook\")\n",
    "import win32com.client as client\n",
    "import pandas as pd\n",
    "from pandas import DataFrame\n",
    "import numpy as np\n",
    "outlook = client.Dispatch('Outlook.Application')\n",
    "namespace = outlook.GetNameSpace(\"MAPI\")\n",
    "account=namespace.Folders['vkk1693@gmail.com']\n",
    "inbox=account.Folders['Inbox']\n",
    "inbox.Items.count"
   ]
  },
  {
   "cell_type": "code",
   "execution_count": 78,
   "id": "88f008e6",
   "metadata": {},
   "outputs": [],
   "source": [
    "p=[]\n",
    "\n",
    "for folder in inbox.Folders:\n",
    "    p.append(folder.name)\n",
    "\n",
    "fn=DataFrame(p,columns=['Main_Folder'])\n",
    "fn['Sub_Folder']=''"
   ]
  },
  {
   "cell_type": "code",
   "execution_count": 79,
   "id": "c7948d98",
   "metadata": {},
   "outputs": [],
   "source": [
    "z=[]\n",
    "x=[]\n",
    "\n",
    "for j in fn.index:\n",
    "    for folder in inbox.Folders[fn['Main_Folder'][j]].Folders:\n",
    "        x.append(fn['Main_Folder'][j])\n",
    "        z.append(folder.Name)\n",
    "        \n",
    "new=pd.DataFrame(columns=['Main_Folder','Sub_Folder'])\n",
    "new=pd.DataFrame(data={'Main_Folder':x,'Sub_Folder':z})"
   ]
  },
  {
   "cell_type": "code",
   "execution_count": 80,
   "id": "acefa18b",
   "metadata": {},
   "outputs": [],
   "source": [
    "a=pd.concat([fn,new])\n",
    "a=a.reset_index()\n",
    "a=a.drop(columns=['index'])"
   ]
  },
  {
   "cell_type": "code",
   "execution_count": 82,
   "id": "e39730c8",
   "metadata": {},
   "outputs": [
    {
     "name": "stderr",
     "output_type": "stream",
     "text": [
      "<ipython-input-82-028e60fe7602>:30: FutureWarning: The pandas.datetime class is deprecated and will be removed from pandas in a future version. Import from datetime module instead.\n",
      "  new['Today']=pd.datetime.today().strftime('%Y/%m/%d')\n"
     ]
    }
   ],
   "source": [
    "e=[]\n",
    "c=[]\n",
    "d=[]\n",
    "f=[]\n",
    "g=[]\n",
    "\n",
    "for k in a.index:\n",
    "    if a['Sub_Folder'][k]=='':\n",
    "        for email in inbox.Folders[a['Main_Folder'][k]].Items:\n",
    "                            \n",
    "            e.append(str(email.EntryID))\n",
    "            c.append(str(email.Subject))\n",
    "            d.append(email.ReceivedTime.strftime('%Y/%m/%d'))\n",
    "            f.append(a['Main_Folder'][k])\n",
    "            g.append('NA')\n",
    "\n",
    "\n",
    "    else:\n",
    "        for email in inbox.Folders[a['Main_Folder'][k]].Folders[a['Sub_Folder'][k]].Items:\n",
    "            e.append(str(email.EntryID))\n",
    "            c.append(str(email.Subject))\n",
    "            d.append(email.ReceivedTime.strftime('%Y/%m/%d'))\n",
    "            f.append(a['Main_Folder'][k])\n",
    "            g.append(a['Sub_Folder'][k])\n",
    "\n",
    "\n",
    "new=pd.DataFrame(columns=['Id','Subject','Received_Date','Main_Folder','Sub_Folder'])\n",
    "new=pd.DataFrame(data={'Id':e,'Subject':c,'Received_Date':d,'Main_Folder':f,'Sub_Folder':g})\n",
    "\n",
    "new['Today']=pd.datetime.today().strftime('%Y/%m/%d')\n",
    "new['Today']=pd.to_datetime(new['Today'])\n",
    "new['Received_Date']=pd.to_datetime(new['Received_Date'])\n",
    "new['Days']=new['Today']-new['Received_Date']\n",
    "new['Days']=new['Days'].astype('timedelta64[D]')\n",
    "new['Days']=new['Days'].astype('int')"
   ]
  },
  {
   "cell_type": "code",
   "execution_count": 83,
   "id": "a42ec102",
   "metadata": {},
   "outputs": [],
   "source": [
    "delete=new[new['Days']>30]\n",
    "delete=delete.reset_index()\n",
    "delete=delete.drop(columns=['index'])"
   ]
  },
  {
   "cell_type": "code",
   "execution_count": 84,
   "id": "c7d71bfe",
   "metadata": {},
   "outputs": [],
   "source": [
    "delete_ws=delete[delete['Sub_Folder']!='NA']\n",
    "delete_wos=delete[delete['Sub_Folder']=='NA']"
   ]
  },
  {
   "cell_type": "code",
   "execution_count": 85,
   "id": "4598497e",
   "metadata": {},
   "outputs": [],
   "source": [
    "delete_wos=delete_wos.sort_values(by='Main_Folder', ascending=True)\n",
    "delete_ws=delete_ws.sort_values(by=['Main_Folder', 'Sub_Folder'])"
   ]
  },
  {
   "cell_type": "code",
   "execution_count": 86,
   "id": "94e41e43",
   "metadata": {},
   "outputs": [],
   "source": [
    "delete_ws=delete_ws.reset_index()\n",
    "delete_ws=delete_ws.drop(columns=['index'])\n",
    "\n",
    "delete_wos=delete_wos.reset_index()\n",
    "delete_wos=delete_wos.drop(columns=['index'])"
   ]
  },
  {
   "cell_type": "code",
   "execution_count": 87,
   "id": "93746a2f",
   "metadata": {},
   "outputs": [],
   "source": [
    "x=delete_ws['Id'].tolist()\n",
    "x=tuple(x)\n",
    "\n",
    "y=delete_wos['Id'].tolist()\n",
    "y=tuple(y)"
   ]
  },
  {
   "cell_type": "code",
   "execution_count": 88,
   "id": "42992023",
   "metadata": {},
   "outputs": [],
   "source": [
    "try:\n",
    "    account.Folders['Inbox'].Folders['tobedeleted'].Items.count\n",
    "except:\n",
    "    inbox.Folders.add('tobedeleted')"
   ]
  },
  {
   "cell_type": "code",
   "execution_count": 89,
   "id": "c296c434",
   "metadata": {},
   "outputs": [],
   "source": [
    "mf=delete_wos.groupby(['Main_Folder']).size().reset_index()\n",
    "sf=delete_ws.groupby(['Main_Folder','Sub_Folder']).size().reset_index()"
   ]
  },
  {
   "cell_type": "code",
   "execution_count": 90,
   "id": "7f465249",
   "metadata": {},
   "outputs": [],
   "source": [
    "mf=mf[mf['Main_Folder']!='tobedeleted']"
   ]
  },
  {
   "cell_type": "code",
   "execution_count": 91,
   "id": "cb180dec",
   "metadata": {},
   "outputs": [],
   "source": [
    "for k in sf.index:\n",
    "    try:\n",
    "        for message in [message for message in inbox.Folders[sf['Main_Folder'][k]].Folders[sf['Sub_Folder'][k]].Items if message.EntryID.startswith(x)]:\n",
    "            message.Move(account.Folders['Inbox'].Folders['tobedeleted'])\n",
    "    except:\n",
    "        break"
   ]
  },
  {
   "cell_type": "code",
   "execution_count": 28,
   "id": "a96758d8",
   "metadata": {},
   "outputs": [],
   "source": [
    "for k in mf.index:\n",
    "    try:\n",
    "        for message in [message for message in inbox.Folders[mf['Main_Folder'][k]].Items if message.EntryID.startswith(y)]:\n",
    "            message.Move(account.Folders['Inbox'].Folders['tobedeleted'])\n",
    "    except:\n",
    "        break"
   ]
  },
  {
   "cell_type": "code",
   "execution_count": null,
   "id": "34439f73",
   "metadata": {},
   "outputs": [],
   "source": []
  },
  {
   "cell_type": "code",
   "execution_count": null,
   "id": "a4ecd995",
   "metadata": {},
   "outputs": [],
   "source": []
  },
  {
   "cell_type": "code",
   "execution_count": null,
   "id": "52308a63",
   "metadata": {},
   "outputs": [],
   "source": []
  },
  {
   "cell_type": "code",
   "execution_count": null,
   "id": "0748aea7",
   "metadata": {},
   "outputs": [],
   "source": []
  },
  {
   "cell_type": "code",
   "execution_count": null,
   "id": "25c232af",
   "metadata": {},
   "outputs": [],
   "source": []
  },
  {
   "cell_type": "code",
   "execution_count": null,
   "id": "69e45550",
   "metadata": {},
   "outputs": [],
   "source": []
  }
 ],
 "metadata": {
  "kernelspec": {
   "display_name": "Python 3",
   "language": "python",
   "name": "python3"
  },
  "language_info": {
   "codemirror_mode": {
    "name": "ipython",
    "version": 3
   },
   "file_extension": ".py",
   "mimetype": "text/x-python",
   "name": "python",
   "nbconvert_exporter": "python",
   "pygments_lexer": "ipython3",
   "version": "3.8.8"
  }
 },
 "nbformat": 4,
 "nbformat_minor": 5
}
